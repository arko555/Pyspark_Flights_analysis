{
  "nbformat": 4,
  "nbformat_minor": 0,
  "metadata": {
    "colab": {
      "name": "PySpark_End_term_project.ipynb",
      "provenance": [],
      "collapsed_sections": []
    },
    "kernelspec": {
      "name": "python3",
      "display_name": "Python 3"
    }
  },
  "cells": [
    {
      "cell_type": "markdown",
      "metadata": {
        "id": "iJcu8lAo-HwD",
        "colab_type": "text"
      },
      "source": [
        "# Flights Data Analysis and prediction of Arrival Delay"
      ]
    },
    {
      "cell_type": "markdown",
      "metadata": {
        "id": "Gx10miIS7LoJ",
        "colab_type": "text"
      },
      "source": [
        "Project Report : https://docs.google.com/document/d/1GYvwMFqH1Qw_z7RFLXGKIbsJ-odikoSBELj_W3u6CD0/edit\n",
        "\n",
        "Slide Deck : https://docs.google.com/presentation/d/1fSttc3Hj_2mvxLYxMdJhMEwA7De7ulzzz9KPN5BFTIA/edit#slide=id.p"
      ]
    },
    {
      "cell_type": "markdown",
      "metadata": {
        "id": "r6nuLu3X8mHG",
        "colab_type": "text"
      },
      "source": [
        "### Pyspark installation"
      ]
    },
    {
      "cell_type": "code",
      "metadata": {
        "id": "Eiph1chs1YRL",
        "colab_type": "code",
        "colab": {
          "base_uri": "https://localhost:8080/",
          "height": 370
        },
        "outputId": "6354c3c2-dfa3-4b00-d838-8d8492f76758"
      },
      "source": [
        "!apt-get update\n",
        "!apt-get install openjdk-8-jdk-headless -qq > /dev/null\n",
        "\n",
        "!wget -q http://apache.osuosl.org/spark/spark-3.0.0/spark-3.0.0-bin-hadoop2.7.tgz\n",
        "\n",
        "!tar xf spark-3.0.0-bin-hadoop2.7.tgz\n",
        "!pip install -q findspark"
      ],
      "execution_count": 2,
      "outputs": [
        {
          "output_type": "stream",
          "text": [
            "\r0% [Working]\r            \rGet:1 https://cloud.r-project.org/bin/linux/ubuntu bionic-cran35/ InRelease [3,626 B]\n",
            "\r0% [Connecting to archive.ubuntu.com (91.189.88.142)] [Connecting to security.u\r0% [Connecting to archive.ubuntu.com (91.189.88.142)] [Connecting to security.u\r0% [1 InRelease gpgv 3,626 B] [Connecting to archive.ubuntu.com (91.189.88.142)\r                                                                               \rIgn:2 https://developer.download.nvidia.com/compute/cuda/repos/ubuntu1804/x86_64  InRelease\n",
            "\r0% [1 InRelease gpgv 3,626 B] [Connecting to archive.ubuntu.com (91.189.88.142)\r                                                                               \rIgn:3 https://developer.download.nvidia.com/compute/machine-learning/repos/ubuntu1804/x86_64  InRelease\n",
            "\r0% [1 InRelease gpgv 3,626 B] [Connecting to archive.ubuntu.com (91.189.88.142)\r                                                                               \rHit:4 https://developer.download.nvidia.com/compute/cuda/repos/ubuntu1804/x86_64  Release\n",
            "Hit:5 https://developer.download.nvidia.com/compute/machine-learning/repos/ubuntu1804/x86_64  Release\n",
            "Get:6 http://ppa.launchpad.net/graphics-drivers/ppa/ubuntu bionic InRelease [21.3 kB]\n",
            "Hit:7 http://archive.ubuntu.com/ubuntu bionic InRelease\n",
            "Get:8 https://cloud.r-project.org/bin/linux/ubuntu bionic-cran35/ Packages [95.7 kB]\n",
            "Get:9 http://security.ubuntu.com/ubuntu bionic-security InRelease [88.7 kB]\n",
            "Get:10 http://archive.ubuntu.com/ubuntu bionic-updates InRelease [88.7 kB]\n",
            "Get:12 http://ppa.launchpad.net/marutter/c2d4u3.5/ubuntu bionic InRelease [15.4 kB]\n",
            "Get:14 http://archive.ubuntu.com/ubuntu bionic-backports InRelease [74.6 kB]\n",
            "Get:15 http://ppa.launchpad.net/graphics-drivers/ppa/ubuntu bionic/main amd64 Packages [43.0 kB]\n",
            "Get:16 http://security.ubuntu.com/ubuntu bionic-security/main amd64 Packages [1,045 kB]\n",
            "Get:17 http://archive.ubuntu.com/ubuntu bionic-updates/main amd64 Packages [1,341 kB]\n",
            "Get:18 http://ppa.launchpad.net/marutter/c2d4u3.5/ubuntu bionic/main Sources [1,863 kB]\n",
            "Get:19 http://security.ubuntu.com/ubuntu bionic-security/universe amd64 Packages [890 kB]\n",
            "Get:20 http://archive.ubuntu.com/ubuntu bionic-updates/universe amd64 Packages [1,418 kB]\n",
            "Get:21 http://ppa.launchpad.net/marutter/c2d4u3.5/ubuntu bionic/main amd64 Packages [899 kB]\n",
            "Fetched 7,888 kB in 4s (1,883 kB/s)\n",
            "Reading package lists... Done\n"
          ],
          "name": "stdout"
        }
      ]
    },
    {
      "cell_type": "code",
      "metadata": {
        "id": "Rx5YQqF82By1",
        "colab_type": "code",
        "colab": {}
      },
      "source": [
        "import os\n",
        "os.environ[\"JAVA_HOME\"] = \"/usr/lib/jvm/java-8-openjdk-amd64\"\n",
        "\n",
        "os.environ[\"SPARK_HOME\"] = \"/content/spark-3.0.0-bin-hadoop2.7\""
      ],
      "execution_count": 3,
      "outputs": []
    },
    {
      "cell_type": "code",
      "metadata": {
        "id": "uXOn3rax2Zi3",
        "colab_type": "code",
        "colab": {}
      },
      "source": [
        "import findspark\n",
        "findspark.init()\n",
        "from pyspark.sql import SparkSession\n",
        "spark = SparkSession.builder.master(\"local[*]\").getOrCreate()\n",
        "\n",
        "sc = spark.sparkContext"
      ],
      "execution_count": 4,
      "outputs": []
    },
    {
      "cell_type": "markdown",
      "metadata": {
        "id": "KJzhrw7v8rct",
        "colab_type": "text"
      },
      "source": [
        "### Data Acquisition"
      ]
    },
    {
      "cell_type": "code",
      "metadata": {
        "id": "tqQ-Lh1Y2cGU",
        "colab_type": "code",
        "colab": {
          "resources": {
            "http://localhost:8080/nbextensions/google.colab/files.js": {
              "data": "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",
              "ok": true,
              "headers": [
                [
                  "content-type",
                  "application/javascript"
                ]
              ],
              "status": 200,
              "status_text": ""
            }
          },
          "base_uri": "https://localhost:8080/",
          "height": 73
        },
        "outputId": "188d86dc-0afe-418c-9a66-ee1783cbc59e"
      },
      "source": [
        "from google.colab import files\n",
        "files.upload()"
      ],
      "execution_count": 5,
      "outputs": [
        {
          "output_type": "display_data",
          "data": {
            "text/html": [
              "\n",
              "     <input type=\"file\" id=\"files-e12515dd-109c-4900-9775-b1fae4b27936\" name=\"files[]\" multiple disabled\n",
              "        style=\"border:none\" />\n",
              "     <output id=\"result-e12515dd-109c-4900-9775-b1fae4b27936\">\n",
              "      Upload widget is only available when the cell has been executed in the\n",
              "      current browser session. Please rerun this cell to enable.\n",
              "      </output>\n",
              "      <script src=\"/nbextensions/google.colab/files.js\"></script> "
            ],
            "text/plain": [
              "<IPython.core.display.HTML object>"
            ]
          },
          "metadata": {
            "tags": []
          }
        },
        {
          "output_type": "stream",
          "text": [
            "Saving 209846_458178_bundle_archive.zip to 209846_458178_bundle_archive.zip\n"
          ],
          "name": "stdout"
        }
      ]
    },
    {
      "cell_type": "code",
      "metadata": {
        "id": "M9K9m3lT8qQt",
        "colab_type": "code",
        "colab": {
          "base_uri": "https://localhost:8080/",
          "height": 84
        },
        "outputId": "e2265dc6-adbe-4d6b-9f7b-f806cf8e69e9"
      },
      "source": [
        "!unzip 209846_458178_bundle_archive.zip"
      ],
      "execution_count": 6,
      "outputs": [
        {
          "output_type": "stream",
          "text": [
            "Archive:  209846_458178_bundle_archive.zip\n",
            "  inflating: airports.csv            \n",
            "  inflating: flights.csv             \n",
            "  inflating: raw-flight-data.csv     \n"
          ],
          "name": "stdout"
        }
      ]
    },
    {
      "cell_type": "code",
      "metadata": {
        "id": "ofIv1LPcAO-g",
        "colab_type": "code",
        "colab": {
          "base_uri": "https://localhost:8080/",
          "height": 84
        },
        "outputId": "039570b6-cde9-47e7-fcc8-04e9992d95bb"
      },
      "source": [
        "!ls"
      ],
      "execution_count": 7,
      "outputs": [
        {
          "output_type": "stream",
          "text": [
            "209846_458178_bundle_archive.zip  sample_data\n",
            "airports.csv\t\t\t  spark-3.0.0-bin-hadoop2.7\n",
            "flights.csv\t\t\t  spark-3.0.0-bin-hadoop2.7.tgz\n",
            "raw-flight-data.csv\n"
          ],
          "name": "stdout"
        }
      ]
    },
    {
      "cell_type": "markdown",
      "metadata": {
        "id": "vW17GowTAUCV",
        "colab_type": "text"
      },
      "source": [
        "We shall be working with the flights.csv dataset to analyse flights delay and predict the same"
      ]
    },
    {
      "cell_type": "code",
      "metadata": {
        "id": "9CTKZB_EAQp0",
        "colab_type": "code",
        "colab": {}
      },
      "source": [
        "from pyspark.sql.types import *\n",
        "from pyspark.sql.functions import *\n",
        "from pyspark.ml import Pipeline\n",
        "from pyspark.ml.classification import DecisionTreeClassifier\n",
        "from pyspark.ml.feature import VectorAssembler, StringIndexer, VectorIndexer, MinMaxScaler\n",
        "from pyspark.ml.classification import LogisticRegression\n",
        "from pyspark.ml.tuning import ParamGridBuilder, CrossValidator\n",
        "from pyspark.ml.evaluation import BinaryClassificationEvaluator"
      ],
      "execution_count": 8,
      "outputs": []
    },
    {
      "cell_type": "markdown",
      "metadata": {
        "id": "pNCGSIErBWrY",
        "colab_type": "text"
      },
      "source": [
        "Reading in the Data"
      ]
    },
    {
      "cell_type": "code",
      "metadata": {
        "id": "T1ZAkdBFBPTO",
        "colab_type": "code",
        "colab": {
          "base_uri": "https://localhost:8080/",
          "height": 286
        },
        "outputId": "bb6e6f89-69e5-4672-bca6-3eb48d829182"
      },
      "source": [
        "flights = spark.read.csv('flights.csv', inferSchema=True, header=True)\n",
        "flights.show(10)"
      ],
      "execution_count": 9,
      "outputs": [
        {
          "output_type": "stream",
          "text": [
            "+----------+---------+-------+---------------+-------------+--------+--------+\n",
            "|DayofMonth|DayOfWeek|Carrier|OriginAirportID|DestAirportID|DepDelay|ArrDelay|\n",
            "+----------+---------+-------+---------------+-------------+--------+--------+\n",
            "|        19|        5|     DL|          11433|        13303|      -3|       1|\n",
            "|        19|        5|     DL|          14869|        12478|       0|      -8|\n",
            "|        19|        5|     DL|          14057|        14869|      -4|     -15|\n",
            "|        19|        5|     DL|          15016|        11433|      28|      24|\n",
            "|        19|        5|     DL|          11193|        12892|      -6|     -11|\n",
            "|        19|        5|     DL|          10397|        15016|      -1|     -19|\n",
            "|        19|        5|     DL|          15016|        10397|       0|      -1|\n",
            "|        19|        5|     DL|          10397|        14869|      15|      24|\n",
            "|        19|        5|     DL|          10397|        10423|      33|      34|\n",
            "|        19|        5|     DL|          11278|        10397|     323|     322|\n",
            "+----------+---------+-------+---------------+-------------+--------+--------+\n",
            "only showing top 10 rows\n",
            "\n"
          ],
          "name": "stdout"
        }
      ]
    },
    {
      "cell_type": "markdown",
      "metadata": {
        "id": "ihqFxqQSCdu4",
        "colab_type": "text"
      },
      "source": [
        "Checking Data dimensions"
      ]
    },
    {
      "cell_type": "code",
      "metadata": {
        "id": "xvUtC7eBB1Lg",
        "colab_type": "code",
        "colab": {
          "base_uri": "https://localhost:8080/",
          "height": 34
        },
        "outputId": "5ec94651-7912-4f6a-fa32-f701b2c07a89"
      },
      "source": [
        "print(flights.count(), len(flights.columns))"
      ],
      "execution_count": 11,
      "outputs": [
        {
          "output_type": "stream",
          "text": [
            "2702218 7\n"
          ],
          "name": "stdout"
        }
      ]
    },
    {
      "cell_type": "markdown",
      "metadata": {
        "id": "oQH9AZVuCi44",
        "colab_type": "text"
      },
      "source": [
        "Checking inferred Schema"
      ]
    },
    {
      "cell_type": "code",
      "metadata": {
        "id": "eSYAR6vlCa6s",
        "colab_type": "code",
        "colab": {
          "base_uri": "https://localhost:8080/",
          "height": 168
        },
        "outputId": "6b34b7a9-084a-4760-e76c-66dfb83af6fe"
      },
      "source": [
        "flights.printSchema()"
      ],
      "execution_count": 11,
      "outputs": [
        {
          "output_type": "stream",
          "text": [
            "root\n",
            " |-- DayofMonth: integer (nullable = true)\n",
            " |-- DayOfWeek: integer (nullable = true)\n",
            " |-- Carrier: string (nullable = true)\n",
            " |-- OriginAirportID: integer (nullable = true)\n",
            " |-- DestAirportID: integer (nullable = true)\n",
            " |-- DepDelay: integer (nullable = true)\n",
            " |-- ArrDelay: integer (nullable = true)\n",
            "\n"
          ],
          "name": "stdout"
        }
      ]
    },
    {
      "cell_type": "markdown",
      "metadata": {
        "id": "-a_N-uZ9RIno",
        "colab_type": "text"
      },
      "source": [
        "Data Preparartion for Classification model : Created column label based on Arrival where I have assumed a flight taking more than 15 minutes to arrive is delayed and signified as 1 and arrivals within 15 minutes are 0"
      ]
    },
    {
      "cell_type": "code",
      "metadata": {
        "id": "gED6r3ueC1xj",
        "colab_type": "code",
        "colab": {
          "base_uri": "https://localhost:8080/",
          "height": 168
        },
        "outputId": "bdc848e1-7f1d-4efa-a31b-0b5b98757b64"
      },
      "source": [
        "flights = flights.select(\"DayofMonth\", \"DayOfWeek\", \"Carrier\", \"OriginAirportID\", \"DestAirportID\", \"DepDelay\",\"ArrDelay\", ((col(\"ArrDelay\") > 15).cast(\"Int\").alias(\"label\")))\n",
        "flights.show(3)"
      ],
      "execution_count": 12,
      "outputs": [
        {
          "output_type": "stream",
          "text": [
            "+----------+---------+-------+---------------+-------------+--------+--------+-----+\n",
            "|DayofMonth|DayOfWeek|Carrier|OriginAirportID|DestAirportID|DepDelay|ArrDelay|label|\n",
            "+----------+---------+-------+---------------+-------------+--------+--------+-----+\n",
            "|        19|        5|     DL|          11433|        13303|      -3|       1|    0|\n",
            "|        19|        5|     DL|          14869|        12478|       0|      -8|    0|\n",
            "|        19|        5|     DL|          14057|        14869|      -4|     -15|    0|\n",
            "+----------+---------+-------+---------------+-------------+--------+--------+-----+\n",
            "only showing top 3 rows\n",
            "\n"
          ],
          "name": "stdout"
        }
      ]
    },
    {
      "cell_type": "markdown",
      "metadata": {
        "id": "s4y1_tBTTp_D",
        "colab_type": "text"
      },
      "source": [
        "### Exploratory Data Analysis"
      ]
    },
    {
      "cell_type": "code",
      "metadata": {
        "id": "UyK9TpxySqt_",
        "colab_type": "code",
        "colab": {
          "base_uri": "https://localhost:8080/",
          "height": 185
        },
        "outputId": "4d6be8e9-748b-401f-fd8d-7699741a8cad"
      },
      "source": [
        "flights.describe().select(\"summary\",\"DayofMonth\", \"DayOfWeek\",\"DepDelay\",\"ArrDelay\",\"label\").show()"
      ],
      "execution_count": 13,
      "outputs": [
        {
          "output_type": "stream",
          "text": [
            "+-------+------------------+-----------------+------------------+------------------+-------------------+\n",
            "|summary|        DayofMonth|        DayOfWeek|          DepDelay|          ArrDelay|              label|\n",
            "+-------+------------------+-----------------+------------------+------------------+-------------------+\n",
            "|  count|           2702218|          2702218|           2702218|           2702218|            2702218|\n",
            "|   mean|15.797897875004903|3.899480352806472|10.510732294729737|6.6550108096386005|0.19909792622208866|\n",
            "| stddev|   8.7988350691642|1.985924603367557| 36.02975608466093|38.547584236791245| 0.3993219265282011|\n",
            "|    min|                 1|                1|               -63|               -94|                  0|\n",
            "|    max|                31|                7|              1863|              1845|                  1|\n",
            "+-------+------------------+-----------------+------------------+------------------+-------------------+\n",
            "\n"
          ],
          "name": "stdout"
        }
      ]
    },
    {
      "cell_type": "code",
      "metadata": {
        "id": "o7AF20p7T6oc",
        "colab_type": "code",
        "colab": {
          "base_uri": "https://localhost:8080/",
          "height": 703
        },
        "outputId": "0ec429c4-85f0-45e4-848e-860bc1a6af0a"
      },
      "source": [
        "import matplotlib.pyplot as plt\n",
        "import seaborn as sns\n",
        "%matplotlib inline\n",
        "\n",
        "df_pd = flights.toPandas()\n",
        "print(len(df_pd))\n",
        "plt.figure(figsize=(12,10))\n",
        "sns.countplot(x='label', data=df_pd)"
      ],
      "execution_count": 14,
      "outputs": [
        {
          "output_type": "stream",
          "text": [
            "/usr/local/lib/python3.6/dist-packages/statsmodels/tools/_testing.py:19: FutureWarning: pandas.util.testing is deprecated. Use the functions in the public API at pandas.testing instead.\n",
            "  import pandas.util.testing as tm\n"
          ],
          "name": "stderr"
        },
        {
          "output_type": "stream",
          "text": [
            "2702218\n"
          ],
          "name": "stdout"
        },
        {
          "output_type": "execute_result",
          "data": {
            "text/plain": [
              "<matplotlib.axes._subplots.AxesSubplot at 0x7eff8ad0dcf8>"
            ]
          },
          "metadata": {
            "tags": []
          },
          "execution_count": 14
        },
        {
          "output_type": "display_data",
          "data": {
            "image/png": "[encoded data removed]",
            "text/plain": [
              "<Figure size 864x720 with 1 Axes>"
            ]
          },
          "metadata": {
            "tags": [],
            "needs_background": "light"
          }
        }
      ]
    },
    {
      "cell_type": "code",
      "metadata": {
        "id": "vuQ8pXTSiwzY",
        "colab_type": "code",
        "colab": {
          "base_uri": "https://localhost:8080/",
          "height": 134
        },
        "outputId": "7cf0a2b9-42e3-4c32-9bd8-b0b2512bccf3"
      },
      "source": [
        "flights.groupBy('label').count().show()"
      ],
      "execution_count": 16,
      "outputs": [
        {
          "output_type": "stream",
          "text": [
            "+-----+-------+\n",
            "|label|  count|\n",
            "+-----+-------+\n",
            "|    1| 538006|\n",
            "|    0|2164212|\n",
            "+-----+-------+\n",
            "\n"
          ],
          "name": "stdout"
        }
      ]
    },
    {
      "cell_type": "code",
      "metadata": {
        "id": "tvyIPQ_5UmXJ",
        "colab_type": "code",
        "colab": {
          "base_uri": "https://localhost:8080/",
          "height": 134
        },
        "outputId": "5c099a63-3245-4add-923b-bc1f665198f0"
      },
      "source": [
        "flights.groupBy('label').agg({'DepDelay':'mean'}).show()"
      ],
      "execution_count": 17,
      "outputs": [
        {
          "output_type": "stream",
          "text": [
            "+-----+-------------------+\n",
            "|label|      avg(DepDelay)|\n",
            "+-----+-------------------+\n",
            "|    1|  54.14783849994238|\n",
            "|    0|-0.3371074552770246|\n",
            "+-----+-------------------+\n",
            "\n"
          ],
          "name": "stdout"
        }
      ]
    },
    {
      "cell_type": "code",
      "metadata": {
        "id": "_PzymHRLXBgz",
        "colab_type": "code",
        "colab": {
          "base_uri": "https://localhost:8080/",
          "height": 336
        },
        "outputId": "db1bbd5a-0f27-4b74-eb8d-517b4acab043"
      },
      "source": [
        "flights.groupBy('label','DayofWeek').count().orderBy('count',ascending=False).show()"
      ],
      "execution_count": 15,
      "outputs": [
        {
          "output_type": "stream",
          "text": [
            "+-----+---------+------+\n",
            "|label|DayofWeek| count|\n",
            "+-----+---------+------+\n",
            "|    0|        2|327758|\n",
            "|    0|        1|324597|\n",
            "|    0|        3|322517|\n",
            "|    0|        4|308856|\n",
            "|    0|        5|308497|\n",
            "|    0|        7|302523|\n",
            "|    0|        6|269464|\n",
            "|    1|        4| 97707|\n",
            "|    1|        5| 87890|\n",
            "|    1|        1| 83240|\n",
            "|    1|        3| 80555|\n",
            "|    1|        2| 69836|\n",
            "|    1|        7| 69705|\n",
            "|    1|        6| 49073|\n",
            "+-----+---------+------+\n",
            "\n"
          ],
          "name": "stdout"
        }
      ]
    },
    {
      "cell_type": "code",
      "metadata": {
        "id": "ctDVofpirJAi",
        "colab_type": "code",
        "colab": {
          "base_uri": "https://localhost:8080/",
          "height": 790
        },
        "outputId": "d1a77f82-194f-4851-c446-0e84ad76dfad"
      },
      "source": [
        "flights.groupBy('DayofMonth','label').count().orderBy('count',ascending=False).show(40)"
      ],
      "execution_count": 49,
      "outputs": [
        {
          "output_type": "stream",
          "text": [
            "+----------+-----+-----+\n",
            "|DayofMonth|label|count|\n",
            "+----------+-----+-----+\n",
            "|        16|    0|76363|\n",
            "|        30|    0|74576|\n",
            "|        15|    0|74057|\n",
            "|         6|    0|73774|\n",
            "|         5|    0|73629|\n",
            "|         3|    0|73268|\n",
            "|        29|    0|72887|\n",
            "|         4|    0|72434|\n",
            "|         2|    0|71721|\n",
            "|         9|    0|71501|\n",
            "|         8|    0|71418|\n",
            "|        23|    0|71320|\n",
            "|        25|    0|71165|\n",
            "|        27|    0|71084|\n",
            "|        17|    0|71081|\n",
            "|        14|    0|70900|\n",
            "|         7|    0|70815|\n",
            "|        24|    0|70750|\n",
            "|        20|    0|70353|\n",
            "|        26|    0|70189|\n",
            "|        21|    0|69168|\n",
            "|         1|    0|68990|\n",
            "|        28|    0|68527|\n",
            "|        12|    0|68467|\n",
            "|        11|    0|68450|\n",
            "|        19|    0|68088|\n",
            "|        18|    0|67960|\n",
            "|        22|    0|67938|\n",
            "|        13|    0|66948|\n",
            "|        10|    0|66870|\n",
            "|        31|    0|39521|\n",
            "|        10|    1|23155|\n",
            "|        22|    1|21337|\n",
            "|        19|    1|20966|\n",
            "|        18|    1|20944|\n",
            "|        12|    1|20390|\n",
            "|        13|    1|20165|\n",
            "|        11|    1|20156|\n",
            "|        23|    1|19934|\n",
            "|         9|    1|19911|\n",
            "+----------+-----+-----+\n",
            "only showing top 40 rows\n",
            "\n"
          ],
          "name": "stdout"
        }
      ]
    },
    {
      "cell_type": "code",
      "metadata": {
        "id": "p33-glW4XYCX",
        "colab_type": "code",
        "colab": {
          "base_uri": "https://localhost:8080/",
          "height": 151
        },
        "outputId": "2312209a-6cdd-46a9-a3d6-5ddbf9897307"
      },
      "source": [
        "flights.show(2)"
      ],
      "execution_count": 16,
      "outputs": [
        {
          "output_type": "stream",
          "text": [
            "+----------+---------+-------+---------------+-------------+--------+-----+\n",
            "|DayofMonth|DayOfWeek|Carrier|OriginAirportID|DestAirportID|DepDelay|label|\n",
            "+----------+---------+-------+---------------+-------------+--------+-----+\n",
            "|        19|        5|     DL|          11433|        13303|      -3|    0|\n",
            "|        19|        5|     DL|          14869|        12478|       0|    0|\n",
            "+----------+---------+-------+---------------+-------------+--------+-----+\n",
            "only showing top 2 rows\n",
            "\n"
          ],
          "name": "stdout"
        }
      ]
    },
    {
      "cell_type": "code",
      "metadata": {
        "id": "53WMT4L9aGlU",
        "colab_type": "code",
        "colab": {
          "base_uri": "https://localhost:8080/",
          "height": 370
        },
        "outputId": "0e05ed2a-28f3-407d-b2e4-3c52068d57f6"
      },
      "source": [
        "flights.groupBy('Carrier').count().orderBy('count',ascending=False).show()"
      ],
      "execution_count": 17,
      "outputs": [
        {
          "output_type": "stream",
          "text": [
            "+-------+------+\n",
            "|Carrier| count|\n",
            "+-------+------+\n",
            "|     WN|575739|\n",
            "|     DL|381657|\n",
            "|     AA|289855|\n",
            "|     UA|286418|\n",
            "|     US|233321|\n",
            "|     OO|160164|\n",
            "|     EV|157928|\n",
            "|     B6|121906|\n",
            "|     MQ|113212|\n",
            "|     FL| 92702|\n",
            "|     9E| 80031|\n",
            "|     AS| 68555|\n",
            "|     YV| 52821|\n",
            "|     F9| 35738|\n",
            "|     VX| 34739|\n",
            "|     HA| 17432|\n",
            "+-------+------+\n",
            "\n"
          ],
          "name": "stdout"
        }
      ]
    },
    {
      "cell_type": "code",
      "metadata": {
        "id": "5ixVH-BUGVaW",
        "colab_type": "code",
        "colab": {
          "base_uri": "https://localhost:8080/",
          "height": 370
        },
        "outputId": "0a29fb85-dc1b-45fd-a1b9-33b083693bdf"
      },
      "source": [
        "flights.groupBy('Carrier').agg({'DepDelay':'mean'}).orderBy('avg(DepDelay)',ascending=False).show()"
      ],
      "execution_count": 52,
      "outputs": [
        {
          "output_type": "stream",
          "text": [
            "+-------+------------------+\n",
            "|Carrier|     avg(DepDelay)|\n",
            "+-------+------------------+\n",
            "|     MQ|15.050197858884218|\n",
            "|     VX|14.386251763148048|\n",
            "|     EV|14.137537358796413|\n",
            "|     WN|12.846166405263496|\n",
            "|     B6|12.619797220809476|\n",
            "|     UA|12.545388208841622|\n",
            "|     F9|12.123454026526387|\n",
            "|     AA| 12.00779700194925|\n",
            "|     FL| 10.16288753209208|\n",
            "|     9E| 9.510189801451938|\n",
            "|     YV| 9.385755665360367|\n",
            "|     OO| 7.826939886616218|\n",
            "|     DL| 7.439483620109155|\n",
            "|     US| 4.974331500379305|\n",
            "|     HA| 1.533903166590179|\n",
            "|     AS|0.6592371088906718|\n",
            "+-------+------------------+\n",
            "\n"
          ],
          "name": "stdout"
        }
      ]
    },
    {
      "cell_type": "code",
      "metadata": {
        "id": "xzDnEaIS7vbH",
        "colab_type": "code",
        "colab": {
          "base_uri": "https://localhost:8080/",
          "height": 370
        },
        "outputId": "174396a6-aa60-4fac-eb48-a24c5e1b55da"
      },
      "source": [
        "flights.groupBy('Carrier').agg({'ArrDelay':'mean'}).orderBy('avg(ArrDelay)',ascending=False).show()"
      ],
      "execution_count": 20,
      "outputs": [
        {
          "output_type": "stream",
          "text": [
            "+-------+--------------------+\n",
            "|Carrier|       avg(ArrDelay)|\n",
            "+-------+--------------------+\n",
            "|     MQ|  13.731132742112143|\n",
            "|     F9|  12.848704460238402|\n",
            "|     EV|  10.205865964236867|\n",
            "|     VX|    9.65790609977259|\n",
            "|     B6|   9.634792381014881|\n",
            "|     YV|   8.547585240718654|\n",
            "|     WN|   8.313306897743596|\n",
            "|     FL|   7.228765290932235|\n",
            "|     AA|  7.1367752841938215|\n",
            "|     OO|   6.339957793261907|\n",
            "|     UA|   5.163631475675412|\n",
            "|     9E|  4.7892066824105655|\n",
            "|     US|   3.924031698818366|\n",
            "|     DL|   2.803331263411912|\n",
            "|     HA|  1.5321248279027078|\n",
            "|     AS|-0.27210269126978337|\n",
            "+-------+--------------------+\n",
            "\n"
          ],
          "name": "stdout"
        }
      ]
    },
    {
      "cell_type": "code",
      "metadata": {
        "id": "a8aniSp6ZzFL",
        "colab_type": "code",
        "colab": {
          "base_uri": "https://localhost:8080/",
          "height": 454
        },
        "outputId": "2ba54c50-3d75-4745-cf9b-55b3c57a286f"
      },
      "source": [
        "flights.groupBy('Carrier','label').count().orderBy('count',ascending=False).show()"
      ],
      "execution_count": 45,
      "outputs": [
        {
          "output_type": "stream",
          "text": [
            "+-------+-----+------+\n",
            "|Carrier|label| count|\n",
            "+-------+-----+------+\n",
            "|     WN|    0|448138|\n",
            "|     DL|    0|323989|\n",
            "|     AA|    0|230013|\n",
            "|     UA|    0|229051|\n",
            "|     US|    0|192378|\n",
            "|     OO|    0|130938|\n",
            "|     WN|    1|127601|\n",
            "|     EV|    0|120690|\n",
            "|     B6|    0| 92771|\n",
            "|     MQ|    0| 82871|\n",
            "|     FL|    0| 74056|\n",
            "|     9E|    0| 65568|\n",
            "|     AS|    0| 60824|\n",
            "|     AA|    1| 59842|\n",
            "|     DL|    1| 57668|\n",
            "|     UA|    1| 57367|\n",
            "|     YV|    0| 42604|\n",
            "|     US|    1| 40943|\n",
            "|     EV|    1| 37238|\n",
            "|     MQ|    1| 30341|\n",
            "+-------+-----+------+\n",
            "only showing top 20 rows\n",
            "\n"
          ],
          "name": "stdout"
        }
      ]
    },
    {
      "cell_type": "code",
      "metadata": {
        "id": "sp9RMNwyJbpW",
        "colab_type": "code",
        "colab": {
          "base_uri": "https://localhost:8080/",
          "height": 106
        },
        "outputId": "f6b89500-75c0-4a7a-9566-6adf7e3fd972"
      },
      "source": [
        "df_pd.head(2)"
      ],
      "execution_count": 15,
      "outputs": [
        {
          "output_type": "execute_result",
          "data": {
            "text/html": [
              "<div>\n",
              "<style scoped>\n",
              "    .dataframe tbody tr th:only-of-type {\n",
              "        vertical-align: middle;\n",
              "    }\n",
              "\n",
              "    .dataframe tbody tr th {\n",
              "        vertical-align: top;\n",
              "    }\n",
              "\n",
              "    .dataframe thead th {\n",
              "        text-align: right;\n",
              "    }\n",
              "</style>\n",
              "<table border=\"1\" class=\"dataframe\">\n",
              "  <thead>\n",
              "    <tr style=\"text-align: right;\">\n",
              "      <th></th>\n",
              "      <th>DayofMonth</th>\n",
              "      <th>DayOfWeek</th>\n",
              "      <th>Carrier</th>\n",
              "      <th>OriginAirportID</th>\n",
              "      <th>DestAirportID</th>\n",
              "      <th>DepDelay</th>\n",
              "      <th>ArrDelay</th>\n",
              "      <th>label</th>\n",
              "    </tr>\n",
              "  </thead>\n",
              "  <tbody>\n",
              "    <tr>\n",
              "      <th>0</th>\n",
              "      <td>19</td>\n",
              "      <td>5</td>\n",
              "      <td>DL</td>\n",
              "      <td>11433</td>\n",
              "      <td>13303</td>\n",
              "      <td>-3</td>\n",
              "      <td>1</td>\n",
              "      <td>0</td>\n",
              "    </tr>\n",
              "    <tr>\n",
              "      <th>1</th>\n",
              "      <td>19</td>\n",
              "      <td>5</td>\n",
              "      <td>DL</td>\n",
              "      <td>14869</td>\n",
              "      <td>12478</td>\n",
              "      <td>0</td>\n",
              "      <td>-8</td>\n",
              "      <td>0</td>\n",
              "    </tr>\n",
              "  </tbody>\n",
              "</table>\n",
              "</div>"
            ],
            "text/plain": [
              "   DayofMonth  DayOfWeek Carrier  ...  DepDelay  ArrDelay  label\n",
              "0          19          5      DL  ...        -3         1      0\n",
              "1          19          5      DL  ...         0        -8      0\n",
              "\n",
              "[2 rows x 8 columns]"
            ]
          },
          "metadata": {
            "tags": []
          },
          "execution_count": 15
        }
      ]
    },
    {
      "cell_type": "code",
      "metadata": {
        "id": "p1ycNbkoKGVV",
        "colab_type": "code",
        "colab": {
          "base_uri": "https://localhost:8080/",
          "height": 497
        },
        "outputId": "b1729577-45ab-4fe8-d042-35f633faf070"
      },
      "source": [
        "from numpy import mean\n",
        "plt.figure(figsize=(10,8))\n",
        "sns.barplot(x='Carrier', y='ArrDelay', data=df_pd,estimator=mean)\n",
        "plt.show()"
      ],
      "execution_count": 22,
      "outputs": [
        {
          "output_type": "display_data",
          "data": {
            "image/png": "[encoded data removed]",
            "text/plain": [
              "<Figure size 720x576 with 1 Axes>"
            ]
          },
          "metadata": {
            "tags": [],
            "needs_background": "light"
          }
        }
      ]
    },
    {
      "cell_type": "code",
      "metadata": {
        "id": "mdwzCAyDMsFD",
        "colab_type": "code",
        "colab": {
          "base_uri": "https://localhost:8080/",
          "height": 497
        },
        "outputId": "4d208722-8e69-4d50-ab51-35a4f4f5d0c2"
      },
      "source": [
        "x = df_pd.groupby('OriginAirportID').agg({'ArrDelay':'mean'}).sort_values(by='ArrDelay', ascending=False).head(10)\n",
        "plt.figure(figsize=(10,8))\n",
        "sns.barplot(x=x.index, y='ArrDelay', data=x)\n",
        "plt.show()"
      ],
      "execution_count": 33,
      "outputs": [
        {
          "output_type": "display_data",
          "data": {
            "image/png": "[encoded data removed]",
            "text/plain": [
              "<Figure size 720x576 with 1 Axes>"
            ]
          },
          "metadata": {
            "tags": [],
            "needs_background": "light"
          }
        }
      ]
    },
    {
      "cell_type": "code",
      "metadata": {
        "id": "MQ9KJ4kpZ5e5",
        "colab_type": "code",
        "colab": {
          "base_uri": "https://localhost:8080/",
          "height": 218
        },
        "outputId": "49eb1c7e-5855-4fda-b946-79fa998d8078"
      },
      "source": [
        "flights.groupBy('DayOfWeek').agg({'DepDelay':'mean'}).show()"
      ],
      "execution_count": 19,
      "outputs": [
        {
          "output_type": "stream",
          "text": [
            "+---------+------------------+\n",
            "|DayOfWeek|     avg(DepDelay)|\n",
            "+---------+------------------+\n",
            "|        1|10.850131302456619|\n",
            "|        6| 7.447128591027102|\n",
            "|        3| 10.38794805890759|\n",
            "|        5| 12.30982600337549|\n",
            "|        4| 13.61391469464757|\n",
            "|        7| 9.614650160654223|\n",
            "|        2| 8.613603323993823|\n",
            "+---------+------------------+\n",
            "\n"
          ],
          "name": "stdout"
        }
      ]
    },
    {
      "cell_type": "code",
      "metadata": {
        "id": "c2NP1kk1akya",
        "colab_type": "code",
        "colab": {
          "base_uri": "https://localhost:8080/",
          "height": 118
        },
        "outputId": "b41a2c2e-4436-4ebf-d3e0-fb1f60d8b704"
      },
      "source": [
        "flights.agg(*(countDistinct(col(c)).alias(c) for c in flights.columns)).show()"
      ],
      "execution_count": 23,
      "outputs": [
        {
          "output_type": "stream",
          "text": [
            "+----------+---------+-------+---------------+-------------+--------+--------+-----+\n",
            "|DayofMonth|DayOfWeek|Carrier|OriginAirportID|DestAirportID|DepDelay|ArrDelay|label|\n",
            "+----------+---------+-------+---------------+-------------+--------+--------+-----+\n",
            "|        31|        7|     16|             70|           70|     945|     979|    2|\n",
            "+----------+---------+-------+---------------+-------------+--------+--------+-----+\n",
            "\n"
          ],
          "name": "stdout"
        }
      ]
    },
    {
      "cell_type": "code",
      "metadata": {
        "id": "GkxX5c-AbfEQ",
        "colab_type": "code",
        "colab": {
          "base_uri": "https://localhost:8080/",
          "height": 454
        },
        "outputId": "8c86156c-d1a9-4459-e11e-56ff8b61c0fe"
      },
      "source": [
        "flights.groupBy('OriginAirportID').agg({'DepDelay':'mean'}).orderBy('avg(DepDelay)',ascending=False).show()"
      ],
      "execution_count": 19,
      "outputs": [
        {
          "output_type": "stream",
          "text": [
            "+---------------+------------------+\n",
            "|OriginAirportID|     avg(DepDelay)|\n",
            "+---------------+------------------+\n",
            "|          13232| 16.12861852685751|\n",
            "|          13930| 15.68016038366288|\n",
            "|          11618|14.552501049554522|\n",
            "|          11292|14.463062544340369|\n",
            "|          11298|14.186065023496692|\n",
            "|          10821|  13.6921813720755|\n",
            "|          12478|13.542426803201273|\n",
            "|          14771|13.493117850870949|\n",
            "|          12191|13.146877050029348|\n",
            "|          12264| 13.00887012744129|\n",
            "|          12889|11.884909730604278|\n",
            "|          11259|11.794565103346972|\n",
            "|          14027|11.522148449113072|\n",
            "|          15016|11.335349807930795|\n",
            "|          11697|11.219662631246772|\n",
            "|          12266|11.198115780001636|\n",
            "|          12953|11.147533593411357|\n",
            "|          14730| 11.14732020155749|\n",
            "|          10397|10.923056211842788|\n",
            "|          13204|10.868233219741281|\n",
            "+---------------+------------------+\n",
            "only showing top 20 rows\n",
            "\n"
          ],
          "name": "stdout"
        }
      ]
    },
    {
      "cell_type": "code",
      "metadata": {
        "id": "P-qiougC7_KD",
        "colab_type": "code",
        "colab": {
          "base_uri": "https://localhost:8080/",
          "height": 454
        },
        "outputId": "1d7bb7d2-cc8d-4083-ee3f-9b45f1d821ac"
      },
      "source": [
        "flights.groupBy('OriginAirportID').agg({'ArrDelay':'mean'}).orderBy('avg(ArrDelay)',ascending=False).show()"
      ],
      "execution_count": 10,
      "outputs": [
        {
          "output_type": "stream",
          "text": [
            "+---------------+------------------+\n",
            "|OriginAirportID|     avg(ArrDelay)|\n",
            "+---------------+------------------+\n",
            "|          13232|11.806288195561274|\n",
            "|          13930|11.595141318448052|\n",
            "|          11292|11.441419303097915|\n",
            "|          11298|10.230449793804546|\n",
            "|          10821| 9.631479299086184|\n",
            "|          11259| 9.340258105130626|\n",
            "|          12191| 9.076718571971135|\n",
            "|          14027|   8.9501536022198|\n",
            "|          14771| 8.712943186672362|\n",
            "|          11057| 8.462015301118159|\n",
            "|          12264| 8.406449544470865|\n",
            "|          11697|  8.35816742211257|\n",
            "|          14843| 8.353468208092485|\n",
            "|          14730| 8.180485570316078|\n",
            "|          12889| 8.100272220652815|\n",
            "|          11066| 7.780932474017303|\n",
            "|          15016|  7.32140588608935|\n",
            "|          10693| 7.299220300946572|\n",
            "|          11618| 7.292584702937198|\n",
            "|          13851|6.9440453957764685|\n",
            "+---------------+------------------+\n",
            "only showing top 20 rows\n",
            "\n"
          ],
          "name": "stdout"
        }
      ]
    },
    {
      "cell_type": "code",
      "metadata": {
        "id": "JWyRjtw08LtU",
        "colab_type": "code",
        "colab": {
          "base_uri": "https://localhost:8080/",
          "height": 370
        },
        "outputId": "375b4242-60a4-4cde-d8db-b546d1c73c4b"
      },
      "source": [
        "flights.groupBy('Carrier').agg({'ArrDelay':'mean'}).orderBy('avg(ArrDelay)',ascending=False).show()"
      ],
      "execution_count": 22,
      "outputs": [
        {
          "output_type": "stream",
          "text": [
            "+-------+--------------------+\n",
            "|Carrier|       avg(ArrDelay)|\n",
            "+-------+--------------------+\n",
            "|     MQ|  13.731132742112143|\n",
            "|     F9|  12.848704460238402|\n",
            "|     EV|  10.205865964236867|\n",
            "|     VX|    9.65790609977259|\n",
            "|     B6|   9.634792381014881|\n",
            "|     YV|   8.547585240718654|\n",
            "|     WN|   8.313306897743596|\n",
            "|     FL|   7.228765290932235|\n",
            "|     AA|  7.1367752841938215|\n",
            "|     OO|   6.339957793261907|\n",
            "|     UA|   5.163631475675412|\n",
            "|     9E|  4.7892066824105655|\n",
            "|     US|   3.924031698818366|\n",
            "|     DL|   2.803331263411912|\n",
            "|     HA|  1.5321248279027078|\n",
            "|     AS|-0.27210269126978337|\n",
            "+-------+--------------------+\n",
            "\n"
          ],
          "name": "stdout"
        }
      ]
    },
    {
      "cell_type": "markdown",
      "metadata": {
        "id": "Y0_u2P6JeWJF",
        "colab_type": "text"
      },
      "source": [
        "### Feature Engineering and Data preparation for Modelling"
      ]
    },
    {
      "cell_type": "code",
      "metadata": {
        "id": "4UqlkWtudcun",
        "colab_type": "code",
        "colab": {
          "base_uri": "https://localhost:8080/",
          "height": 34
        },
        "outputId": "fc4f0d58-99d6-4dad-a4c8-ef254f01adcb"
      },
      "source": [
        "splits = flights.randomSplit([0.7, 0.3])\n",
        "train = splits[0]\n",
        "test = splits[1].withColumnRenamed(\"label\", \"trueLabel\")\n",
        "train_rows = train.count()\n",
        "test_rows = test.count()\n",
        "print(\"Training Rows:\", train_rows, \" Testing Rows:\", test_rows)"
      ],
      "execution_count": 36,
      "outputs": [
        {
          "output_type": "stream",
          "text": [
            "Training Rows: 1889745  Testing Rows: 812473\n"
          ],
          "name": "stdout"
        }
      ]
    },
    {
      "cell_type": "markdown",
      "metadata": {
        "id": "wSkxIGTEfgEn",
        "colab_type": "text"
      },
      "source": [
        "Pipeline for Preprocessing :\n",
        "\n",
        "*   A StringIndexer estimator that converts string values to indexes for categorical features\n",
        "*   A VectorAssembler that combines categorical features into a single vector\n",
        "*   A VectorIndexer that creates indexes for a vector of categorical features\n",
        "*   A VectorAssembler that creates a vector of continuous numeric features\n",
        "*   A MinMaxScaler that normalizes continuous numeric features\n",
        "*   A VectorAssembler that creates a vector of categorical and continuous features\n",
        "*   A LogisticRegressionClassifier that trains a classification model.\n",
        "\n",
        "\n",
        "\n",
        "\n",
        "\n",
        "\n",
        "\n"
      ]
    },
    {
      "cell_type": "code",
      "metadata": {
        "id": "pvsZBjNYekVU",
        "colab_type": "code",
        "colab": {}
      },
      "source": [
        "strIdx = StringIndexer(inputCol = \"Carrier\", outputCol = \"CarrierIdx\")\n",
        "catVect = VectorAssembler(inputCols = [\"CarrierIdx\", \"DayofMonth\", \"DayOfWeek\", \"OriginAirportID\", \"DestAirportID\"], outputCol=\"catFeatures\")\n",
        "catIdx = VectorIndexer(inputCol = catVect.getOutputCol(), outputCol = \"idxCatFeatures\")\n",
        "numVect = VectorAssembler(inputCols = [\"DepDelay\"], outputCol=\"numFeatures\")\n",
        "minMax = MinMaxScaler(inputCol = numVect.getOutputCol(), outputCol=\"normFeatures\")\n",
        "featVect = VectorAssembler(inputCols=[\"idxCatFeatures\", \"normFeatures\"], outputCol=\"features\")\n",
        "lr = LogisticRegression(labelCol=\"label\",featuresCol=\"features\",maxIter=10,regParam=0.3)\n",
        "#dt = DecisionTreeClassifier(labelCol=\"label\", featuresCol=\"features\")\n",
        "pipeline_LR = Pipeline(stages=[strIdx, catVect, catIdx, numVect, minMax, featVect, lr])"
      ],
      "execution_count": 35,
      "outputs": []
    },
    {
      "cell_type": "markdown",
      "metadata": {
        "id": "qkNHtve2jrRU",
        "colab_type": "text"
      },
      "source": [
        "Fitting Training Data to pipeline"
      ]
    },
    {
      "cell_type": "code",
      "metadata": {
        "id": "T4l_oPR_jdKM",
        "colab_type": "code",
        "colab": {}
      },
      "source": [
        "piplineModel_LR = pipelineLR.fit(train)"
      ],
      "execution_count": 24,
      "outputs": []
    },
    {
      "cell_type": "code",
      "metadata": {
        "id": "OInwg6TVjg0V",
        "colab_type": "code",
        "colab": {}
      },
      "source": [
        "prediction = piplineModel_LR.transform(test)\n",
        "predicted = prediction.select(\"features\", \"prediction\", \"trueLabel\")"
      ],
      "execution_count": 25,
      "outputs": []
    },
    {
      "cell_type": "code",
      "metadata": {
        "id": "AaF2KaYqk5AA",
        "colab_type": "code",
        "colab": {
          "base_uri": "https://localhost:8080/",
          "height": 286
        },
        "outputId": "2c580890-3c2d-4941-c76b-f526ac092c31"
      },
      "source": [
        "predicted.show(10)"
      ],
      "execution_count": 26,
      "outputs": [
        {
          "output_type": "stream",
          "text": [
            "+--------------------+----------+---------+\n",
            "|            features|prediction|trueLabel|\n",
            "+--------------------+----------+---------+\n",
            "|[10.0,1.0,0.0,103...|       0.0|        0|\n",
            "|[10.0,1.0,0.0,103...|       0.0|        0|\n",
            "|[10.0,1.0,0.0,104...|       0.0|        1|\n",
            "|[10.0,1.0,0.0,104...|       0.0|        0|\n",
            "|[10.0,1.0,0.0,104...|       0.0|        0|\n",
            "|[10.0,1.0,0.0,104...|       0.0|        0|\n",
            "|[10.0,1.0,0.0,104...|       0.0|        0|\n",
            "|[10.0,1.0,0.0,104...|       0.0|        0|\n",
            "|[10.0,1.0,0.0,105...|       0.0|        0|\n",
            "|[10.0,1.0,0.0,105...|       0.0|        0|\n",
            "+--------------------+----------+---------+\n",
            "only showing top 10 rows\n",
            "\n"
          ],
          "name": "stdout"
        }
      ]
    },
    {
      "cell_type": "markdown",
      "metadata": {
        "id": "NaQfikNk1kYe",
        "colab_type": "text"
      },
      "source": [
        "### Evaluating the Model\n",
        "We'll calculate a Confusion Matrix and the Area Under ROC (Receiver Operating Characteristic) to evaluate the model."
      ]
    },
    {
      "cell_type": "code",
      "metadata": {
        "id": "Kh3W2MD8tAif",
        "colab_type": "code",
        "colab": {
          "base_uri": "https://localhost:8080/",
          "height": 218
        },
        "outputId": "bd2e1f46-1282-40ae-90b7-3495db133f47"
      },
      "source": [
        "tp = float(predicted.filter(\"prediction == 1.0 AND truelabel == 1\").count())\n",
        "fp = float(predicted.filter(\"prediction == 1.0 AND truelabel == 0\").count())\n",
        "tn = float(predicted.filter(\"prediction == 0.0 AND truelabel == 0\").count())\n",
        "fn = float(predicted.filter(\"prediction == 0.0 AND truelabel == 1\").count())\n",
        "pr = tp / (tp + fp)\n",
        "re = tp / (tp + fn)\n",
        "metrics = spark.createDataFrame([\n",
        " (\"TP\", tp),\n",
        " (\"FP\", fp),\n",
        " (\"TN\", tn),\n",
        " (\"FN\", fn),\n",
        " (\"Precision\", pr),\n",
        " (\"Recall\", re),\n",
        " (\"F1\", 2*pr*re/(re+pr))],[\"metric\", \"value\"])\n",
        "metrics.show()"
      ],
      "execution_count": 27,
      "outputs": [
        {
          "output_type": "stream",
          "text": [
            "+---------+-------------------+\n",
            "|   metric|              value|\n",
            "+---------+-------------------+\n",
            "|       TP|            19572.0|\n",
            "|       FP|               74.0|\n",
            "|       TN|           649853.0|\n",
            "|       FN|           141618.0|\n",
            "|Precision| 0.9962333299399369|\n",
            "|   Recall|0.12142192443699981|\n",
            "|       F1|0.21646132407264038|\n",
            "+---------+-------------------+\n",
            "\n"
          ],
          "name": "stdout"
        }
      ]
    },
    {
      "cell_type": "markdown",
      "metadata": {
        "id": "6tQxRYrZ2KlK",
        "colab_type": "text"
      },
      "source": [
        "We have good precision in our model but recall is poor hence our F1 score is too low "
      ]
    },
    {
      "cell_type": "code",
      "metadata": {
        "id": "5TKDJktZ19D-",
        "colab_type": "code",
        "colab": {
          "base_uri": "https://localhost:8080/",
          "height": 34
        },
        "outputId": "0b1b71dc-52f5-4e03-880e-3f2878e3fd43"
      },
      "source": [
        "evaluator = BinaryClassificationEvaluator(labelCol=\"trueLabel\", rawPredictionCol=\"rawPrediction\", metricName=\"areaUnderROC\")\n",
        "aur = evaluator.evaluate(prediction)\n",
        "print (\"AUR = \", aur)"
      ],
      "execution_count": 28,
      "outputs": [
        {
          "output_type": "stream",
          "text": [
            "AUR =  0.9189409704690327\n"
          ],
          "name": "stdout"
        }
      ]
    },
    {
      "cell_type": "markdown",
      "metadata": {
        "id": "IMUCXJ653iE-",
        "colab_type": "text"
      },
      "source": [
        "The prediction is based on a raw prediction score that describes a labelled point in a logistic function. This raw prediction is then converted to a predicted label of 0 or 1 based on a probability vector that indicates the confidence for each possible label value (in this case, 0 and 1). The value with the highest confidence is selected as the prediction."
      ]
    },
    {
      "cell_type": "code",
      "metadata": {
        "id": "ojlc0had2-72",
        "colab_type": "code",
        "colab": {
          "base_uri": "https://localhost:8080/",
          "height": 286
        },
        "outputId": "7478c756-b413-4a1c-bbf1-e052d8247261"
      },
      "source": [
        "prediction.select(\"rawPrediction\", \"probability\", \"prediction\", \"trueLabel\").show(10, truncate=False)"
      ],
      "execution_count": 29,
      "outputs": [
        {
          "output_type": "stream",
          "text": [
            "+----------------------------------------+----------------------------------------+----------+---------+\n",
            "|rawPrediction                           |probability                             |prediction|trueLabel|\n",
            "+----------------------------------------+----------------------------------------+----------+---------+\n",
            "|[1.535155677776856,-1.535155677776856]  |[0.8227593994875413,0.17724060051245877]|0.0       |0        |\n",
            "|[1.2150397981219756,-1.2150397981219756]|[0.7711894682598593,0.22881053174014074]|0.0       |0        |\n",
            "|[1.2451878908004512,-1.2451878908004512]|[0.7764657506114899,0.22353424938851008]|0.0       |1        |\n",
            "|[1.580330210752271,-1.580330210752271]  |[0.8292512787888032,0.1707487212111968] |0.0       |0        |\n",
            "|[1.6018671254797334,-1.6018671254797334]|[0.8322791799233202,0.16772082007667982]|0.0       |0        |\n",
            "|[1.587949043755608,-1.587949043755608]  |[0.830327352199962,0.16967264780003796] |0.0       |0        |\n",
            "|[1.6869515237821997,-1.6869515237821997]|[0.8438228347754014,0.15617716522459846]|0.0       |0        |\n",
            "|[1.6312791968856988,-1.6312791968856988]|[0.8363448005764929,0.1636551994235071] |0.0       |0        |\n",
            "|[1.5042686358670339,-1.5042686358670339]|[0.818210265241123,0.18178973475887703] |0.0       |0        |\n",
            "|[1.4903505541429087,-1.4903505541429087]|[0.8161308830083654,0.18386911699163458]|0.0       |0        |\n",
            "+----------------------------------------+----------------------------------------+----------+---------+\n",
            "only showing top 10 rows\n",
            "\n"
          ],
          "name": "stdout"
        }
      ]
    },
    {
      "cell_type": "markdown",
      "metadata": {
        "id": "BzUQaKzK8P_8",
        "colab_type": "text"
      },
      "source": [
        "Let's create similar pipeline for our Decision Tree Model"
      ]
    },
    {
      "cell_type": "code",
      "metadata": {
        "id": "WOBKjmBM3VuS",
        "colab_type": "code",
        "colab": {}
      },
      "source": [
        "strIdx = StringIndexer(inputCol = \"Carrier\", outputCol = \"CarrierIdx\")\n",
        "catVect = VectorAssembler(inputCols = [\"CarrierIdx\", \"DayofMonth\", \"DayOfWeek\", \"OriginAirportID\", \"DestAirportID\"], outputCol=\"catFeatures\")\n",
        "catIdx = VectorIndexer(inputCol = catVect.getOutputCol(), outputCol = \"idxCatFeatures\")\n",
        "numVect = VectorAssembler(inputCols = [\"DepDelay\"], outputCol=\"numFeatures\")\n",
        "minMax = MinMaxScaler(inputCol = numVect.getOutputCol(), outputCol=\"normFeatures\")\n",
        "featVect = VectorAssembler(inputCols=[\"idxCatFeatures\", \"normFeatures\"], outputCol=\"features\")\n",
        "dt = DecisionTreeClassifier(labelCol=\"label\", featuresCol=\"features\")\n",
        "pipeline_dt = Pipeline(stages=[strIdx, catVect, catIdx, numVect, minMax, featVect, dt])"
      ],
      "execution_count": 32,
      "outputs": []
    },
    {
      "cell_type": "markdown",
      "metadata": {
        "id": "8AVhb0st_Ewm",
        "colab_type": "text"
      },
      "source": [
        "Fitting Decision Tree Pipeline"
      ]
    },
    {
      "cell_type": "code",
      "metadata": {
        "id": "TlMN8oXi8Uvq",
        "colab_type": "code",
        "colab": {}
      },
      "source": [
        "piplineModel_DT = pipeline_dt.fit(train)"
      ],
      "execution_count": null,
      "outputs": []
    },
    {
      "cell_type": "code",
      "metadata": {
        "id": "_m0m9r6583xN",
        "colab_type": "code",
        "colab": {}
      },
      "source": [
        "prediction_DT = piplineModel_DT.transform(test)\n",
        "predicted_DT = prediction_DT.select(\"features\", \"prediction\", \"trueLabel\")"
      ],
      "execution_count": 37,
      "outputs": []
    },
    {
      "cell_type": "code",
      "metadata": {
        "id": "yf9fZTQE-ZRr",
        "colab_type": "code",
        "colab": {
          "base_uri": "https://localhost:8080/",
          "height": 286
        },
        "outputId": "e3ab290b-a12d-43e3-ff58-ba338656823c"
      },
      "source": [
        "predicted_DT.show(10)"
      ],
      "execution_count": 38,
      "outputs": [
        {
          "output_type": "stream",
          "text": [
            "+--------------------+----------+---------+\n",
            "|            features|prediction|trueLabel|\n",
            "+--------------------+----------+---------+\n",
            "|[10.0,1.0,0.0,103...|       0.0|        0|\n",
            "|[10.0,1.0,0.0,103...|       0.0|        0|\n",
            "|[10.0,1.0,0.0,104...|       0.0|        1|\n",
            "|[10.0,1.0,0.0,104...|       0.0|        0|\n",
            "|[10.0,1.0,0.0,104...|       0.0|        0|\n",
            "|[10.0,1.0,0.0,104...|       0.0|        0|\n",
            "|[10.0,1.0,0.0,104...|       0.0|        0|\n",
            "|[10.0,1.0,0.0,104...|       0.0|        0|\n",
            "|[10.0,1.0,0.0,105...|       0.0|        0|\n",
            "|[10.0,1.0,0.0,105...|       0.0|        0|\n",
            "+--------------------+----------+---------+\n",
            "only showing top 10 rows\n",
            "\n"
          ],
          "name": "stdout"
        }
      ]
    },
    {
      "cell_type": "markdown",
      "metadata": {
        "id": "X8H--L0y_Jbv",
        "colab_type": "text"
      },
      "source": [
        "Evaluation Metrics for Decision Tree"
      ]
    },
    {
      "cell_type": "code",
      "metadata": {
        "id": "qz8Nr371-ddv",
        "colab_type": "code",
        "colab": {
          "base_uri": "https://localhost:8080/",
          "height": 218
        },
        "outputId": "7d076fbf-ea2e-4081-dc52-674b6fdc35bb"
      },
      "source": [
        "tp = float(predicted_DT.filter(\"prediction == 1.0 AND truelabel == 1\").count())\n",
        "fp = float(predicted_DT.filter(\"prediction == 1.0 AND truelabel == 0\").count())\n",
        "tn = float(predicted_DT.filter(\"prediction == 0.0 AND truelabel == 0\").count())\n",
        "fn = float(predicted_DT.filter(\"prediction == 0.0 AND truelabel == 1\").count())\n",
        "pr = tp / (tp + fp)\n",
        "re = tp / (tp + fn)\n",
        "metrics = spark.createDataFrame([\n",
        " (\"TP\", tp),\n",
        " (\"FP\", fp),\n",
        " (\"TN\", tn),\n",
        " (\"FN\", fn),\n",
        " (\"Precision\", pr),\n",
        " (\"Recall\", re),\n",
        " (\"F1\", 2*pr*re/(re+pr))],[\"metric\", \"value\"])\n",
        "metrics.show()"
      ],
      "execution_count": 40,
      "outputs": [
        {
          "output_type": "stream",
          "text": [
            "+---------+------------------+\n",
            "|   metric|             value|\n",
            "+---------+------------------+\n",
            "|       TP|          114102.0|\n",
            "|       FP|           12430.0|\n",
            "|       TN|          637497.0|\n",
            "|       FN|           47088.0|\n",
            "|Precision|0.9017639806531155|\n",
            "|   Recall|0.7078726968174205|\n",
            "|       F1|0.7931406009967955|\n",
            "+---------+------------------+\n",
            "\n"
          ],
          "name": "stdout"
        }
      ]
    },
    {
      "cell_type": "code",
      "metadata": {
        "id": "358zaIfZ_QMM",
        "colab_type": "code",
        "colab": {
          "base_uri": "https://localhost:8080/",
          "height": 34
        },
        "outputId": "ff9640d5-0e43-4572-b425-d8a1a9620957"
      },
      "source": [
        "evaluator = BinaryClassificationEvaluator(labelCol=\"trueLabel\", rawPredictionCol=\"rawPrediction\", metricName=\"areaUnderROC\")\n",
        "aur = evaluator.evaluate(prediction_DT)\n",
        "print (\"AUR = \", aur)"
      ],
      "execution_count": 43,
      "outputs": [
        {
          "output_type": "stream",
          "text": [
            "AUR =  0.8443737359922389\n"
          ],
          "name": "stdout"
        }
      ]
    },
    {
      "cell_type": "markdown",
      "metadata": {
        "id": "cNozh-8rA68O",
        "colab_type": "text"
      },
      "source": [
        "As we can see even with a much better recall than the Logistic Regression Model the Decision Tree's Area Under ROC curve is lesser which signifies that as an overall Model The Logistic Regression is performing better."
      ]
    },
    {
      "cell_type": "markdown",
      "metadata": {
        "id": "O3Ruyw11RBMv",
        "colab_type": "text"
      },
      "source": [
        "### Hyperparamter Tuning for Logistic Regression Model\n",
        "To find the best performing parameters, we can use the CrossValidator class to evaluate each combination of parameters defined in a ParameterGrid against multiple folds of the data split into training and validation datasets."
      ]
    },
    {
      "cell_type": "markdown",
      "metadata": {
        "id": "nrjBOG63S09z",
        "colab_type": "text"
      },
      "source": [
        "### Change the Discrimination Threshold\n",
        "\n",
        "The AUC score seems to indicate a reasonably good model, but the performance metrics seem to indicate that it predicts a high number of False Negative labels (i.e. it predicts 0 when the true label is 1), leading to a low Recall. We can improve this by lowering the threshold. \n",
        "\n",
        "In this case, I'll let the CrossValidator find the best threshold from 0.4 and 0.3, regularization parameter from 0.3 and 0.1, and the maximum number of iterations allowed from 10 and 5."
      ]
    },
    {
      "cell_type": "code",
      "metadata": {
        "id": "K9FZdbE4RAfM",
        "colab_type": "code",
        "colab": {}
      },
      "source": [
        "paramGrid = ParamGridBuilder().addGrid(lr.regParam, [0.3, 0.1]).addGrid(lr.maxIter, [10, 5]).addGrid(lr.threshold, \n",
        "                                                                                            [0.4, 0.3]).build()\n",
        "cv = CrossValidator(estimator=pipeline_LR, evaluator=BinaryClassificationEvaluator(), estimatorParamMaps=paramGrid, \n",
        "                    numFolds=2)\n",
        "\n",
        "model = cv.fit(train)"
      ],
      "execution_count": 38,
      "outputs": []
    },
    {
      "cell_type": "code",
      "metadata": {
        "id": "yhFOoLs-SZ-L",
        "colab_type": "code",
        "colab": {
          "base_uri": "https://localhost:8080/",
          "height": 286
        },
        "outputId": "12ddab76-bba2-4455-eba8-774204ea893a"
      },
      "source": [
        "newPrediction = model.transform(test)\n",
        "newPredicted = newPrediction.select(\"features\", \"prediction\", \"trueLabel\")\n",
        "newPredicted.show(10)"
      ],
      "execution_count": 39,
      "outputs": [
        {
          "output_type": "stream",
          "text": [
            "+--------------------+----------+---------+\n",
            "|            features|prediction|trueLabel|\n",
            "+--------------------+----------+---------+\n",
            "|[10.0,1.0,0.0,103...|       0.0|        0|\n",
            "|[10.0,1.0,0.0,103...|       0.0|        0|\n",
            "|[10.0,1.0,0.0,103...|       1.0|        1|\n",
            "|[10.0,1.0,0.0,103...|       0.0|        0|\n",
            "|[10.0,1.0,0.0,104...|       0.0|        0|\n",
            "|[10.0,1.0,0.0,106...|       0.0|        0|\n",
            "|[10.0,1.0,0.0,106...|       1.0|        1|\n",
            "|[10.0,1.0,0.0,107...|       0.0|        0|\n",
            "|[10.0,1.0,0.0,107...|       0.0|        0|\n",
            "|[10.0,1.0,0.0,107...|       0.0|        1|\n",
            "+--------------------+----------+---------+\n",
            "only showing top 10 rows\n",
            "\n"
          ],
          "name": "stdout"
        }
      ]
    },
    {
      "cell_type": "code",
      "metadata": {
        "id": "gvvIo6F6Tc9r",
        "colab_type": "code",
        "colab": {
          "base_uri": "https://localhost:8080/",
          "height": 218
        },
        "outputId": "c221f774-e504-4f09-b090-0ab845ab166c"
      },
      "source": [
        "tp = float(newPredicted.filter(\"prediction == 1.0 AND truelabel == 1\").count())\n",
        "fp = float(newPredicted.filter(\"prediction == 1.0 AND truelabel == 0\").count())\n",
        "tn = float(newPredicted.filter(\"prediction == 0.0 AND truelabel == 0\").count())\n",
        "fn = float(newPredicted.filter(\"prediction == 0.0 AND truelabel == 1\").count())\n",
        "pr = tp / (tp + fp)\n",
        "re = tp / (tp + fn)\n",
        "metrics = spark.createDataFrame([\n",
        " (\"TP\", tp),\n",
        " (\"FP\", fp),\n",
        " (\"TN\", tn),\n",
        " (\"FN\", fn),\n",
        " (\"Precision\", pr),\n",
        " (\"Recall\", re),\n",
        " (\"F1\", 2*pr*re/(re+pr))],[\"metric\", \"value\"])\n",
        "metrics.show()"
      ],
      "execution_count": 40,
      "outputs": [
        {
          "output_type": "stream",
          "text": [
            "+---------+-------------------+\n",
            "|   metric|              value|\n",
            "+---------+-------------------+\n",
            "|       TP|            31492.0|\n",
            "|       FP|              110.0|\n",
            "|       TN|           650187.0|\n",
            "|       FN|           130684.0|\n",
            "|Precision| 0.9965192076450857|\n",
            "|   Recall| 0.1941840962904499|\n",
            "|       F1|0.32503173734892504|\n",
            "+---------+-------------------+\n",
            "\n"
          ],
          "name": "stdout"
        }
      ]
    },
    {
      "cell_type": "code",
      "metadata": {
        "id": "eKWtYIoFTtEs",
        "colab_type": "code",
        "colab": {
          "base_uri": "https://localhost:8080/",
          "height": 34
        },
        "outputId": "cf02ea34-64d5-4aff-f31a-3ca51a448561"
      },
      "source": [
        "# Recalculate the Area Under ROC\n",
        "evaluator2 = BinaryClassificationEvaluator(labelCol=\"trueLabel\", rawPredictionCol=\"prediction\", metricName=\"areaUnderROC\")\n",
        "aur2 = evaluator2.evaluate(newPredicted)\n",
        "print( \"AUR2 = \", aur2)"
      ],
      "execution_count": 42,
      "outputs": [
        {
          "output_type": "stream",
          "text": [
            "AUR2 =  0.5970074714056737\n"
          ],
          "name": "stdout"
        }
      ]
    }
  ]
}